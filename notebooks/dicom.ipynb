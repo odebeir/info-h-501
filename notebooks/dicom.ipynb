{
 "cells": [
  {
   "cell_type": "markdown",
   "metadata": {},
   "source": [
    "# Playing with DICOM images\n",
    "\n",
    "installation see [pydicom](https://pydicom.github.io/pydicom/stabl/index.html)"
   ]
  },
  {
   "cell_type": "code",
   "execution_count": null,
   "metadata": {},
   "outputs": [],
   "source": [
    "import pydicom\n",
    "import matplotlib.pyplot as plt"
   ]
  },
  {
   "cell_type": "code",
   "execution_count": null,
   "metadata": {},
   "outputs": [],
   "source": [
    "fpath = '../data/0002.DCM'\n",
    "ds = pydicom.dcmread(fpath)\n",
    "\n",
    "# Normal mode:\n",
    "print()\n",
    "print(f\"File path........: {fpath}\")\n",
    "print(f\"SOP Class........: {ds.SOPClassUID} ({ds.SOPClassUID.name})\")\n",
    "print()\n",
    "\n",
    "pat_name = ds.PatientName\n",
    "display_name = pat_name.family_name + \", \" + pat_name.given_name\n",
    "print(f\"Patient's Name...: {display_name}\")\n",
    "print(f\"Patient ID.......: {ds.PatientID}\")\n",
    "print(f\"Modality.........: {ds.Modality}\")\n",
    "print(f\"Study Date.......: {ds.StudyDate}\")\n",
    "print(f\"Image size.......: {ds.Rows} x {ds.Columns}\")\n",
    "print(f\"Number of frames.: {ds.NumberOfFrames}\")\n",
    "\n",
    "#print(f\"Pixel Spacing....: {ds.PixelSpacing}\")\n",
    "# use .get() if not sure the item exists, and want a default value if missing\n",
    "print(f\"Slice location...: {ds.get('SliceLocation', '(missing)')}\")\n",
    "\n",
    "# plot the image using matplotlib\n",
    "v = ds.pixel_array[:,:,:].max(axis=0)\n",
    "plt.imshow(v, cmap=plt.cm.gray)\n",
    "\n",
    "plt.show()"
   ]
  },
  {
   "cell_type": "code",
   "execution_count": null,
   "metadata": {},
   "outputs": [],
   "source": [
    "dir(ds)"
   ]
  },
  {
   "cell_type": "code",
   "execution_count": null,
   "metadata": {},
   "outputs": [],
   "source": [
    "# authors : Guillaume Lemaitre <g.lemaitre58@gmail.com>\n",
    "# license : MIT\n",
    "\n",
    "import matplotlib.pyplot as plt\n",
    "from pydicom import dcmread\n",
    "from pydicom.data import get_testdata_file\n",
    "\n",
    "fpath = get_testdata_file('CT_small.dcm')\n",
    "ds = dcmread(fpath)\n",
    "\n",
    "# Normal mode:\n",
    "print()\n",
    "print(f\"File path........: {fpath}\")\n",
    "print(f\"SOP Class........: {ds.SOPClassUID} ({ds.SOPClassUID.name})\")\n",
    "print()\n",
    "\n",
    "pat_name = ds.PatientName\n",
    "display_name = pat_name.family_name + \", \" + pat_name.given_name\n",
    "print(f\"Patient's Name...: {display_name}\")\n",
    "print(f\"Patient ID.......: {ds.PatientID}\")\n",
    "print(f\"Modality.........: {ds.Modality}\")\n",
    "print(f\"Study Date.......: {ds.StudyDate}\")\n",
    "print(f\"Image size.......: {ds.Rows} x {ds.Columns}\")\n",
    "print(f\"Pixel Spacing....: {ds.PixelSpacing}\")\n",
    "\n",
    "# use .get() if not sure the item exists, and want a default value if missing\n",
    "print(f\"Slice location...: {ds.get('SliceLocation', '(missing)')}\")\n",
    "\n",
    "# plot the image using matplotlib\n",
    "plt.imshow(ds.pixel_array, cmap=plt.cm.gray)\n",
    "plt.show()"
   ]
  },
  {
   "cell_type": "code",
   "execution_count": null,
   "metadata": {},
   "outputs": [],
   "source": []
  },
  {
   "cell_type": "code",
   "execution_count": null,
   "metadata": {},
   "outputs": [],
   "source": []
  }
 ],
 "metadata": {
  "kernelspec": {
   "display_name": "Python 3",
   "language": "python",
   "name": "python3"
  },
  "language_info": {
   "codemirror_mode": {
    "name": "ipython",
    "version": 3
   },
   "file_extension": ".py",
   "mimetype": "text/x-python",
   "name": "python",
   "nbconvert_exporter": "python",
   "pygments_lexer": "ipython3",
   "version": "3.7.7"
  }
 },
 "nbformat": 4,
 "nbformat_minor": 4
}

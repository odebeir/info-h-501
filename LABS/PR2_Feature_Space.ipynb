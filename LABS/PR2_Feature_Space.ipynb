{
 "cells": [
  {
   "cell_type": "markdown",
   "metadata": {},
   "source": [
    "# Pattern Recognition 2 - Feature Space\n",
    "\n",
    "**Objectives**\n",
    "\n",
    "* Compute distances between objects in feature space\n",
    "* Use PCA to perform reduce the dimensionality of the problem\n",
    "* Implement face recognition using [Eigenfaces](http://en.wikipedia.org/wiki/Eigenface)"
   ]
  },
  {
   "cell_type": "markdown",
   "metadata": {},
   "source": [
    "## Feature space distance\n",
    "\n",
    "The `ocr_features.npy` file contains extracted features for each letter from the document used in the previous lab, and the `ocr_class.npy` file contains the character corresponding to these features.\n",
    "\n",
    "The 18 features, extracted with the `regionprops` methods from `scikit-image` are, in order: \n",
    "\n",
    "> area, convex area, eccentricity, equivalent diameter, extent, filled area, intertia tensor eigenvalue 1, inertia tensor eigenvalue 2, major axis length, minor axis length, Hu moment 1, Hu moment 2, Hu moment 3, Hu moment 4, Hu moment 5, Hu moment 6, perimeter, solidity\n",
    "\n",
    "* Create a method which computes the Euclidian distance, in feature space, between two objects.\n",
    "* Check if the \"nearest\" object is of the same class.\n",
    "* What can you do to improve this \"distance-based\" classification? "
   ]
  },
  {
   "cell_type": "code",
   "execution_count": null,
   "metadata": {},
   "outputs": [],
   "source": [
    "import numpy as np\n",
    "\n",
    "ocr_features = np.load('../../extern_data/ocr_features.npy')\n",
    "ocr_class = np.load('../../extern_data/ocr_class.npy')\n",
    "\n",
    "print(ocr_features.shape)\n",
    "print(np.unique(ocr_class))"
   ]
  },
  {
   "cell_type": "code",
   "execution_count": null,
   "metadata": {},
   "outputs": [],
   "source": [
    "\n",
    "## -- Your code here -- ##\n"
   ]
  },
  {
   "cell_type": "markdown",
   "metadata": {},
   "source": [
    "## Eigenfaces\n",
    "\n",
    "The `faces.npy` file contains a 3D matrix containing 2963 images, each with 170x200 pixels, encoded in 8-bit grayscale."
   ]
  },
  {
   "cell_type": "code",
   "execution_count": null,
   "metadata": {},
   "outputs": [],
   "source": [
    "from matplotlib import pyplot as plt\n",
    "%matplotlib notebook\n",
    "\n",
    "faces = np.load('../../extern_data/faces.npy')\n",
    "print(faces.shape, faces.dtype, faces.min(), faces.max())"
   ]
  },
  {
   "cell_type": "code",
   "execution_count": null,
   "metadata": {},
   "outputs": [],
   "source": [
    "# Show some faces:\n",
    "plt.figure()\n",
    "for i in range(16):\n",
    "    plt.subplot(4,4,i+1)\n",
    "    plt.imshow(faces[i], cmap=plt.cm.gray)\n",
    "    plt.axis('off')\n",
    "plt.show()"
   ]
  },
  {
   "cell_type": "markdown",
   "metadata": {},
   "source": [
    "### Direct approach\n",
    "\n",
    "1. Write a program that subsample the images (e.g. by 5), converts 2D images into lines, and collect all these lines into one single matrix **T**.\n",
    "1. Zero-center **T** by removing the \"mean image\" ($T_i \\leftarrow T_i - T_{mean}$)\n",
    "1. Compute the variance/covariance matrix of **T**:\n",
    "$$ \\mathbf{S} = \\mathbf{T^TT}$$\n",
    "1. Compute the eigenvalues $\\lambda_i$ and eigenvectors $\\mathbf{v}_i$ of **S**\n",
    "$$\\mathbf{Sv}_i = \\mathbf{T^T}\\mathbf{Tv}_i = \\lambda_i \\mathbf{v}_i$$\n",
    "1. The eigenvectors have the same size as the images, and are often referred to as \"eigenfaces\". Display some of them."
   ]
  },
  {
   "cell_type": "code",
   "execution_count": null,
   "metadata": {},
   "outputs": [],
   "source": [
    "# Example of eigen value extraction\n",
    "import numpy as np\n",
    "from numpy import linalg as LA\n",
    "\n",
    "w,v = LA.eig(np.diag((1, 2, 3)))\n",
    "print(w,v)"
   ]
  },
  {
   "cell_type": "code",
   "execution_count": null,
   "metadata": {},
   "outputs": [],
   "source": [
    "# Example of subsampling\n",
    "im = faces[0]\n",
    "plt.figure()\n",
    "plt.subplot(1,2,1)\n",
    "plt.imshow(im, cmap=plt.cm.gray)\n",
    "plt.title(\"Original image\")\n",
    "plt.subplot(1,2,2)\n",
    "plt.imshow(im[::5,::5], cmap=plt.cm.gray)\n",
    "plt.title(\"Subsampled image\")\n",
    "plt.show()"
   ]
  },
  {
   "cell_type": "code",
   "execution_count": null,
   "metadata": {},
   "outputs": [],
   "source": [
    "\n",
    "## -- Your code here -- ##\n"
   ]
  },
  {
   "cell_type": "markdown",
   "metadata": {},
   "source": [
    "### Compression\n",
    "\n",
    "1. Reconstruct images using only the first N eigenfaces (e.g. N=100).\n",
    "2. Compare (visually) reconstructed images with original images"
   ]
  },
  {
   "cell_type": "code",
   "execution_count": null,
   "metadata": {},
   "outputs": [],
   "source": [
    "\n",
    "## -- Your code here -- ##\n"
   ]
  },
  {
   "cell_type": "markdown",
   "metadata": {},
   "source": [
    "### Face recognition\n",
    "\n",
    "1. Using the simplified vector space (e.g. 100 first eigenfaces), compute the euclidian distance between one face and the others.\n",
    "2. For a subset of the image of the database, find the 4 closest matches."
   ]
  },
  {
   "cell_type": "code",
   "execution_count": null,
   "metadata": {},
   "outputs": [],
   "source": [
    "\n",
    "## -- Your code here -- ##\n"
   ]
  },
  {
   "cell_type": "markdown",
   "metadata": {},
   "source": [
    "### Indirect approach\n",
    "\n",
    "Instead of using the eigenvalues/eigenvectors of $\\mathbf{S} = \\mathbf{T^TT}$, compute the the eigenvalues/eigenvectors of $\\mathbf{Q} = \\mathbf{TT^T}$.\n",
    "\n",
    "Let $\\mathbf{u_i}$ be the eigenvectors of $\\mathbf{Q}$. We have:\n",
    "$$\\mathbf{TT^T}\\mathbf{u}_i = \\lambda_i \\mathbf{u}_i$$\n",
    "\n",
    "By multiplying to the left with $\\mathbf{T^T}$, we have:\n",
    "$$\\mathbf{T^T}\\mathbf{TT^T}\\mathbf{u}_i = \\lambda_i\\mathbf{T^T}\\mathbf{u}_i$$\n",
    "$$\\mathbf{S}\\mathbf{T^T}\\mathbf{u}_i = \\lambda_i\\mathbf{T^T}\\mathbf{u}_i$$\n",
    "\n",
    "Which means that if $\\mathbf{u}_i$ is eigenvector of $\\mathbf{Q}$, then $\\mathbf{T^T}\\mathbf{u}_i$ is eigenvector of $\\mathbf{S}$.\n",
    "\n",
    "The indirect approach thus becomes:\n",
    "1. Compute the eigenvectors $\\mathbf{u}_i$ of $\\mathbf{Q} = \\mathbf{TT^T}$.\n",
    "1. Compute the eigenfaces with $\\mathbf{v}_i = \\mathbf{T^T}\\mathbf{u}_i$ \n",
    "1. Reconstruct the images using only the first N eigenfaces (e.g. N=100)\n",
    "1. Compare (visually) reconstructed images with original images\n",
    "1. Use the indirect approach with more resolution (without subsampling the images)\n",
    "\n",
    "Use this new feature space to perform the same face recognition method."
   ]
  },
  {
   "cell_type": "code",
   "execution_count": null,
   "metadata": {},
   "outputs": [],
   "source": [
    "\n",
    "## -- Your code here -- ##\n"
   ]
  }
 ],
 "metadata": {
  "kernelspec": {
   "display_name": "Python 3",
   "language": "python",
   "name": "python3"
  },
  "language_info": {
   "codemirror_mode": {
    "name": "ipython",
    "version": 3
   },
   "file_extension": ".py",
   "mimetype": "text/x-python",
   "name": "python",
   "nbconvert_exporter": "python",
   "pygments_lexer": "ipython3",
   "version": "3.7.7"
  }
 },
 "nbformat": 4,
 "nbformat_minor": 2
}

{
 "cells": [
  {
   "cell_type": "markdown",
   "metadata": {},
   "source": [
    "# Pattern Recognition 3 - Points and Neighbourhoods\n",
    "\n",
    "**Objectives**:\n",
    "\n",
    "* Detect points of interest in an image\n",
    "* Extract neighbourhood descriptors\n",
    "* Use descriptors for clustering and matching"
   ]
  },
  {
   "cell_type": "markdown",
   "metadata": {},
   "source": [
    "## Points of interest\n",
    "\n",
    "In the previous labs, we have analyzed the images either using \"object descriptors\" (area, eccentricity, moments of segmented object) or \"image descriptors\" (based on all the pixels of the image). Another way of approaching an image analysis problem is to first look for \"interesting points\".\n",
    "\n",
    "What makes a point *interesting* will highly depend on the application. Common examples are **corners**, or **local extrema**.\n",
    "\n",
    "Starting from the `mitosis.bmp` image, find or create a **point detector** that will detect the nuclei of the cells.\n",
    "\n",
    "> *Hint: it may be easier to do so in a different color space...*"
   ]
  },
  {
   "cell_type": "code",
   "execution_count": null,
   "metadata": {},
   "outputs": [],
   "source": [
    "import numpy as np\n",
    "from matplotlib import pyplot as plt\n",
    "from skimage.io import imread\n",
    "%matplotlib notebook\n",
    "\n",
    "im = imread('mitosis.bmp')\n",
    "plt.figure()\n",
    "plt.imshow(im)\n",
    "plt.show()"
   ]
  },
  {
   "cell_type": "code",
   "execution_count": null,
   "metadata": {},
   "outputs": [],
   "source": [
    "\n",
    "## -- Your code here -- ##\n"
   ]
  },
  {
   "cell_type": "markdown",
   "metadata": {},
   "source": [
    "## Descriptors\n",
    "\n",
    "The goal of *descriptors* is to represent the region surrounding the point of interest in a way that allow our algorithm to best perform its task. For instance, the BRIEF descriptor will compare pairs of pixels in the given neighbourhood and create a binary descriptor representing the result of all these comparison. This kind of descriptor will tend to create a unique signature in a grayscale image, and is very useful for applications such as matching for stereo-vision or for video tracking.\n",
    "\n",
    "Other types of descriptors can be based on the texture (for instance with local Fourier transforms) or on local histograms.\n",
    "\n",
    "* Using the points detected before, **extract neighbourhood patches** and **compute the concatenated color histogram** as a descriptor (meaning a 256+256+256 = size 768 vector, with the first 256 values corresponding to the R histogram, etc...).\n",
    "* Use the [KMeans](http://scikit-learn.org/stable/modules/generated/sklearn.cluster.KMeans.html) class from `scikit-learn` to cluster the points of interest depending on their descriptor. Can you identify clusters representing the type of tissue of the cell?"
   ]
  },
  {
   "cell_type": "code",
   "execution_count": null,
   "metadata": {},
   "outputs": [],
   "source": [
    "from sklearn.cluster import KMeans\n",
    "\n",
    "def compute_histogram(patch):\n",
    "    rgb_histogram = np.zeros((768,))\n",
    "    \n",
    "    ## TODO : compute histogram ##\n",
    "    \n",
    "    return rgb_histogram\n",
    "\n",
    "def extract_descriptors(im, coords, neighbourhood_size=15):\n",
    "    ## TODO : extract neighbourhood patch for each point coordinate, \n",
    "    ## compute histogram and compile everything in a \"descriptor matrix\"\n",
    "    return\n",
    "\n",
    "## -- Your code here -- ##\n"
   ]
  },
  {
   "cell_type": "markdown",
   "metadata": {},
   "source": [
    "* Apply the same point detection and descriptors on the `mitosis2.bmp` image, and use the already trained KMeans to predict the clusters of the points in the new image."
   ]
  },
  {
   "cell_type": "code",
   "execution_count": null,
   "metadata": {},
   "outputs": [],
   "source": [
    "\n",
    "## -- Your code here -- ##\n"
   ]
  }
 ],
 "metadata": {
  "kernelspec": {
   "display_name": "Python 3",
   "language": "python",
   "name": "python3"
  },
  "language_info": {
   "codemirror_mode": {
    "name": "ipython",
    "version": 3
   },
   "file_extension": ".py",
   "mimetype": "text/x-python",
   "name": "python",
   "nbconvert_exporter": "python",
   "pygments_lexer": "ipython3",
   "version": "3.7.7"
  }
 },
 "nbformat": 4,
 "nbformat_minor": 2
}

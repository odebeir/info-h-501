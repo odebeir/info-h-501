{
 "cells": [
  {
   "cell_type": "markdown",
   "metadata": {},
   "source": [
    "# Pattern Recognition 1 - Expert System\n",
    "\n",
    "**Objectives**\n",
    "\n",
    "* Create a working image analysis and pattern recognition pipeline\n",
    "* Object labelisation and feature extraction\n",
    "* Creating an Expert System for Optical Character Recognition (OCR)\n",
    "\n",
    "**Libraries needed for this lab**\n",
    "\n",
    "* Numpy\n",
    "* Matplotlib\n",
    "* Scikit-image\n",
    "\n",
    "(all included in the Anaconda distribution)"
   ]
  },
  {
   "cell_type": "markdown",
   "metadata": {},
   "source": [
    "## Object detection\n",
    "\n",
    "Given the following image :"
   ]
  },
  {
   "cell_type": "code",
   "execution_count": null,
   "metadata": {},
   "outputs": [],
   "source": [
    "import numpy as np\n",
    "from matplotlib import pyplot as plt\n",
    "from skimage.io import imread\n",
    "%matplotlib inline\n",
    "\n",
    "im = imread('../data/doc1.png')\n",
    "print(im.shape, im.dtype)\n",
    "\n",
    "plt.figure(figsize=(20,15))\n",
    "plt.imshow(im, cmap=plt.cm.gray)\n",
    "plt.show()"
   ]
  },
  {
   "cell_type": "markdown",
   "metadata": {},
   "source": [
    "* **Segment** the image to isolate the text from the background\n",
    "* **Label individual characters** and **extract** the centroid position, the bounding box, and useful features for each character.\n",
    "\n",
    "Useful documentation: [`skimage.measure`](http://scikit-image.org/docs/dev/api/skimage.measure.html) module."
   ]
  },
  {
   "cell_type": "code",
   "execution_count": null,
   "metadata": {},
   "outputs": [],
   "source": [
    "\n",
    "## -- Your code here -- ##\n"
   ]
  },
  {
   "cell_type": "markdown",
   "metadata": {},
   "source": [
    "## Line detection and letter ordering\n",
    "\n",
    "* Find the labels (objects) that belong to each text line\n",
    "* Order each character in a text line from left to right"
   ]
  },
  {
   "cell_type": "code",
   "execution_count": null,
   "metadata": {},
   "outputs": [],
   "source": [
    "\n",
    "## -- Your code here -- ##\n"
   ]
  },
  {
   "cell_type": "markdown",
   "metadata": {},
   "source": [
    "## Expert System classification\n",
    "\n",
    "* Using the features available with the [regionprops](http://scikit-image.org/docs/dev/api/skimage.measure.html#skimage.measure.regionprops) method of scikit-image, propose a method to automatically recognize some letters."
   ]
  },
  {
   "cell_type": "code",
   "execution_count": null,
   "metadata": {},
   "outputs": [],
   "source": [
    "\n",
    "## -- Your code here -- ##\n"
   ]
  },
  {
   "cell_type": "markdown",
   "metadata": {},
   "source": [
    "## Full OCR pipeline\n",
    "\n",
    "Using all the previous exercices, create a method that takes as input a text image, and outputs the recognized text."
   ]
  },
  {
   "cell_type": "code",
   "execution_count": null,
   "metadata": {},
   "outputs": [],
   "source": [
    "def OCR(im):\n",
    "    text = ''\n",
    "    \n",
    "    return text\n",
    "\n",
    "print(OCR(im))"
   ]
  }
 ],
 "metadata": {
  "kernelspec": {
   "display_name": "Python 3",
   "language": "python",
   "name": "python3"
  },
  "language_info": {
   "codemirror_mode": {
    "name": "ipython",
    "version": 3
   },
   "file_extension": ".py",
   "mimetype": "text/x-python",
   "name": "python",
   "nbconvert_exporter": "python",
   "pygments_lexer": "ipython3",
   "version": "3.7.7"
  }
 },
 "nbformat": 4,
 "nbformat_minor": 2
}
